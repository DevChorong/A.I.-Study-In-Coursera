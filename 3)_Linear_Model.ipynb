{
  "nbformat": 4,
  "nbformat_minor": 0,
  "metadata": {
    "colab": {
      "name": "3) Linear Model.ipynb",
      "provenance": [],
      "collapsed_sections": [],
      "include_colab_link": true
    },
    "kernelspec": {
      "name": "python3",
      "display_name": "Python 3"
    }
  },
  "cells": [
    {
      "cell_type": "markdown",
      "metadata": {
        "id": "view-in-github",
        "colab_type": "text"
      },
      "source": [
        "<a href=\"https://colab.research.google.com/github/DevChorong/A.I.-Study-In-Coursera/blob/master/3)_Linear_Model.ipynb\" target=\"_parent\"><img src=\"https://colab.research.google.com/assets/colab-badge.svg\" alt=\"Open In Colab\"/></a>"
      ]
    },
    {
      "cell_type": "markdown",
      "metadata": {
        "id": "oMhUBSMczTRI",
        "colab_type": "text"
      },
      "source": [
        "# 3. Linear Model\n",
        "******\n",
        "This Note is for 'Basic Level Supervised Learning'\n",
        "\n",
        "we just know about the grammer that some of scikit-learn that include about Decision-Tree"
      ]
    },
    {
      "cell_type": "code",
      "metadata": {
        "id": "nCaNzRB0GYW6",
        "colab_type": "code",
        "outputId": "9b3dc128-452e-47e0-963e-c63d73d86399",
        "colab": {
          "base_uri": "https://localhost:8080/",
          "height": 89
        }
      },
      "source": [
        "from sklearn.datasets import load_iris;\n",
        "import pandas as pd\n",
        "import numpy as np\n",
        "\n",
        "iris = load_iris();\n",
        "data = iris['data'];\n",
        "\n",
        "print(iris['feature_names'])\n"
      ],
      "execution_count": 0,
      "outputs": [
        {
          "output_type": "stream",
          "text": [
            "['sepal length (cm)', 'sepal width (cm)', 'petal length (cm)', 'petal width (cm)']\n",
            "sepal length (cm)\n",
            "sepal width (cm)\n",
            "[5.1 3.5 1.4 0.2]\n"
          ],
          "name": "stdout"
        }
      ]
    }
  ]
}